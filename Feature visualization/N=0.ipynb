{
  "nbformat": 4,
  "nbformat_minor": 0,
  "metadata": {
    "accelerator": "GPU",
    "colab": {
      "name": "N=0.ipynb",
      "provenance": [],
      "collapsed_sections": []
    },
    "kernelspec": {
      "display_name": "Python 3",
      "name": "python3"
    },
    "language_info": {
      "name": "python"
    }
  },
  "cells": [
    {
      "cell_type": "markdown",
      "metadata": {
        "id": "Hzxa5M-KIlaT"
      },
      "source": [
        "1. Load the packages"
      ]
    },
    {
      "cell_type": "code",
      "metadata": {
        "id": "27EecuJEIpNy"
      },
      "source": [
        "from torch.utils.data import Dataset,DataLoader,TensorDataset\n",
        "from sklearn.datasets import fetch_openml\n",
        "import numpy as np\n",
        "from sklearn.model_selection import train_test_split\n",
        "import matplotlib.pyplot as plot\n",
        "import torch\n",
        "import torch.nn as nn\n",
        "from torch.autograd.function import Function\n",
        "import matplotlib.pyplot as plt\n",
        "import torch.nn.functional as F\n",
        "import torch.optim as optim\n",
        "from torchvision import datasets, transforms\n",
        "from  torch.utils.data import DataLoader\n",
        "import torch.optim.lr_scheduler as lr_scheduler\n",
        "from sklearn.decomposition import PCA\n",
        "from sklearn.manifold import TSNE"
      ],
      "execution_count": null,
      "outputs": []
    },
    {
      "cell_type": "markdown",
      "metadata": {
        "id": "9ImmS9EdIqix"
      },
      "source": [
        "2. Define the function used to load MNIST and USPS data splits\n"
      ]
    },
    {
      "cell_type": "markdown",
      "source": [
        "\n",
        "You need to download[ MNIST-USPS data splits](https://github.com/samotiian/CCSA) generated in [1] to run this code. Then: \n",
        "\n",
        "\n",
        "2.1. If you run the code on Colab, you will need to put these splits in the corresponding folder of your [Google Drive](https://drive.google.com/drive/u/0/my-drive).\n",
        "\n",
        "\n",
        "2.2. If you run the code locally, you will need to put these splits in the corresponding folder of your device.\n",
        "\n",
        "\n",
        "\n",
        "[1] Motiian, S., Piccirilli, M., Adjeroh, D. A., & Doretto, G. (2017). Unified deep supervised domain adaptation and generalization. In Proceedings of the IEEE international conference on computer vision (pp. 5715-5725)."
      ],
      "metadata": {
        "id": "cUg4Xb__NIUV"
      }
    },
    {
      "cell_type": "code",
      "source": [
        "# Mount the Google drive, please ignore this cell if you run the code locally.\n",
        "from google.colab import drive\n",
        "drive.mount('/content/drive')"
      ],
      "metadata": {
        "colab": {
          "base_uri": "https://localhost:8080/"
        },
        "id": "-hBBmnnFo0Rk",
        "outputId": "ef8dbe45-1417-40fd-b407-43e38611d88e"
      },
      "execution_count": null,
      "outputs": [
        {
          "output_type": "stream",
          "name": "stdout",
          "text": [
            "Mounted at /content/drive\n"
          ]
        }
      ]
    },
    {
      "cell_type": "code",
      "source": [
        "# The path where you put the data.\n",
        "initial_path='/content/drive/MyDrive/MINIST domain adaptation/CCSA-master/row_data/'"
      ],
      "metadata": {
        "id": "z73Xi61GNO2d"
      },
      "execution_count": null,
      "outputs": []
    },
    {
      "cell_type": "code",
      "source": [
        "# The function used to load the data, refered to:\n",
        "##\n",
        "#Motiian, S., Piccirilli, M., Adjeroh, D. A., & Doretto, G. (2017). \n",
        "#Unified deep supervised domain adaptation and generalization. \n",
        "#In Proceedings of the IEEE international conference on computer vision (pp. 5715-5725).\n",
        "##\n",
        "\n",
        "\n",
        "def read_data(domain_adaptation_task,repetition,sample_per_class):\n",
        "    UM  = domain_adaptation_task\n",
        "    cc  = repetition\n",
        "    SpC = sample_per_class\n",
        "    if UM != 'MNIST_to_USPS':\n",
        "        if UM != 'USPS_to_MNIST':\n",
        "            raise Exception('domain_adaptation_task should be either MNIST_to_USPS or USPS_to_MNIST')\n",
        "    if cc <0 or cc>10:\n",
        "        raise Exception('number of repetition should be between 0 and 9.')\n",
        "    if SpC <1 or SpC>7:\n",
        "            raise Exception('number of sample_per_class should be between 1 and 7.')\n",
        "    X_train_target=np.load(initial_path + UM + '_X_train_target_repetition_' + str(cc) + '_sample_per_class_' + str(SpC) + '.npy')\n",
        "    y_train_target=np.load(initial_path + UM + '_y_train_target_repetition_' + str(cc) + '_sample_per_class_' + str(SpC) + '.npy')\n",
        "    X_train_source=np.load(initial_path + UM + '_X_train_source_repetition_' + str(cc) + '_sample_per_class_' + str(SpC) + '.npy')\n",
        "    y_train_source=np.load(initial_path + UM + '_y_train_source_repetition_' + str(cc) + '_sample_per_class_' + str(SpC) + '.npy')\n",
        "    X_test = np.load(initial_path + UM + '_X_test_target_repetition_' + str(cc) + '_sample_per_class_' + str(SpC)+'.npy')\n",
        "    y_test = np.load(initial_path + UM + '_y_test_target_repetition_' + str(cc) + '_sample_per_class_' + str(SpC)+'.npy')\n",
        "    print(\"Target X : \", X_train_target.shape, \" Y : \", y_train_target.shape)\n",
        "    print(\"Source X : \", X_train_source.shape, \" Y : \", y_train_source.shape)\n",
        "    print(\"Test X : \", X_test.shape, \" Test_Y : \", y_test.shape)\n",
        "    return X_train_target,y_train_target,X_train_source,y_train_source,X_test,y_test\n"
      ],
      "metadata": {
        "colab": {
          "base_uri": "https://localhost:8080/"
        },
        "id": "Ib3gPazmpSGy",
        "outputId": "532b0963-8805-4cba-882c-f8005205a8cc"
      },
      "execution_count": null,
      "outputs": [
        {
          "output_type": "stream",
          "name": "stdout",
          "text": [
            "Target X :  (30, 16, 16)  Y :  (30,)\n",
            "Source X :  (1800, 16, 16)  Y :  (1800,)\n",
            "Test X :  (2000, 16, 16)  Test_Y :  (2000,)\n"
          ]
        }
      ]
    },
    {
      "cell_type": "markdown",
      "source": [
        "## **We only use the source data in the training set**"
      ],
      "metadata": {
        "id": "JHj-pKjT4Twx"
      }
    },
    {
      "cell_type": "code",
      "metadata": {
        "id": "RqWRX_9-I4Qp"
      },
      "source": [
        "# USPS_to_MNIST\n",
        "# MNIST_to_USPS\n",
        "repetition=2\n",
        "sample_per_class=3\n",
        "X_train_target,y_train_target,X_train_source,y_train_source,X_test,y_test=read_data('USPS_to_MNIST',repetition,sample_per_class)\n",
        "x_train=X_train_source\n",
        "y_train=y_train_source\n",
        "x_train=torch.from_numpy(x_train).reshape(-1,1,16,16)\n",
        "y_train=torch.from_numpy(y_train)\n",
        "x_test=torch.from_numpy(X_test).reshape(-1,1,16,16)\n",
        "y_test=torch.from_numpy(y_test)\n",
        "x_train=x_train.float()\n",
        "x_test=x_test.float()\n",
        "y_train=y_train.long()\n",
        "y_test=y_test.long()\n",
        "# form the dataset\n",
        "train_dataset=TensorDataset(x_train,y_train)\n",
        "val_dataset=TensorDataset(x_test,y_test)\n"
      ],
      "execution_count": null,
      "outputs": []
    },
    {
      "cell_type": "markdown",
      "metadata": {
        "id": "2_MIPBlXl5gl"
      },
      "source": [
        "3. Define LetNet++ for MNIST-USPS"
      ]
    },
    {
      "cell_type": "code",
      "metadata": {
        "id": "AyUwCBngl7XV"
      },
      "source": [
        "class Net(nn.Module):\n",
        "    def __init__(self):\n",
        "        super(Net, self).__init__()\n",
        "        self.conv1_1 = nn.Conv2d(1, 32, kernel_size=5, padding=2)\n",
        "        self.prelu1_1 = nn.PReLU()\n",
        "        self.conv1_2 = nn.Conv2d(32, 32, kernel_size=5, padding=2)\n",
        "        self.prelu1_2 = nn.PReLU()\n",
        "        self.conv2_1 = nn.Conv2d(32, 64, kernel_size=5, padding=2)\n",
        "        self.prelu2_1 = nn.PReLU()\n",
        "        self.conv2_2 = nn.Conv2d(64, 64, kernel_size=5, padding=2)\n",
        "        self.prelu2_2 = nn.PReLU()\n",
        "        self.conv3_1 = nn.Conv2d(64, 128, kernel_size=5, padding=2)\n",
        "        self.prelu3_1 = nn.PReLU()\n",
        "        self.conv3_2 = nn.Conv2d(128, 128, kernel_size=5, padding=2)\n",
        "        self.prelu3_2 = nn.PReLU()\n",
        "        self.preluip1 = nn.PReLU()\n",
        "        self.ip1 = nn.Linear(128*2*2, 84)\n",
        "        self.ip2 = nn.Linear(84, 10, bias=False)\n",
        "\n",
        "\n",
        "    def forward(self, x):\n",
        "        x = self.prelu1_1(self.conv1_1(x))\n",
        "        x = self.prelu1_2(self.conv1_2(x))\n",
        "        x = F.max_pool2d(x,2)\n",
        "        x = self.prelu2_1(self.conv2_1(x))\n",
        "        x = self.prelu2_2(self.conv2_2(x))\n",
        "        x = F.max_pool2d(x,2)\n",
        "        x = self.prelu3_1(self.conv3_1(x))\n",
        "        x = self.prelu3_2(self.conv3_2(x))\n",
        "        x = F.max_pool2d(x,2)\n",
        "        x = x.view(-1, 128*2*2)\n",
        "        ip1 = self.preluip1(self.ip1(x))\n",
        "        ip2 = self.ip2(ip1)\n",
        "        return ip1,F.log_softmax(ip2, dim=1)"
      ],
      "execution_count": null,
      "outputs": []
    },
    {
      "cell_type": "markdown",
      "metadata": {
        "id": "OguzijQzmS5E"
      },
      "source": [
        "4. Define the training in one epoch"
      ]
    },
    {
      "cell_type": "code",
      "metadata": {
        "id": "JPPfm01yNjcx"
      },
      "source": [
        "#deine the training within 1 epoch\n",
        "def train(epoch):\n",
        "  print (\"Training... Epoch = %d\" % epoch)\n",
        "  ip1_loader = []\n",
        "  idx_loader = []\n",
        "  #Training in each epoch#\n",
        "  for data, target in train_loader:\n",
        "    data, target = data.to(device), target.to(device)\n",
        "    ip1, pred = model(data)\n",
        "    loss = nllloss(pred, target)\n",
        "    optimizer4nn.zero_grad()\n",
        "    loss.backward()\n",
        "    optimizer4nn.step()\n",
        "\n",
        "    ip1_loader.append(ip1)\n",
        "    idx_loader.append((target))\n",
        "  test_out = model(x_test.to(device))[1]\n",
        "  pred_y = torch.max(test_out.cpu(), 1)[1].data.numpy()\n",
        "  accuracy = float((pred_y == y_test.data.numpy()).astype(int).sum()) / float(y_test.size(0))\n",
        "  return model\n",
        "\n"
      ],
      "execution_count": null,
      "outputs": []
    },
    {
      "cell_type": "markdown",
      "metadata": {
        "id": "1oc9WU_nNkkJ"
      },
      "source": [
        "5. Train the model"
      ]
    },
    {
      "cell_type": "code",
      "metadata": {
        "colab": {
          "base_uri": "https://localhost:8080/"
        },
        "id": "jzajvfuJNkrR",
        "outputId": "2f4d561d-c4a9-42ca-9ef3-2f0a3b7d1531"
      },
      "source": [
        "#Activate GPU\n",
        "use_cuda = torch.cuda.is_available() and True\n",
        "device = torch.device(\"cuda\" if use_cuda else \"cpu\")\n",
        "train_loader= DataLoader(train_dataset, batch_size=64, shuffle=True, num_workers=2)\n",
        "test_loader = DataLoader(val_dataset, batch_size=64, shuffle=True, num_workers=2)\n",
        "model = Net().to(device)\n",
        "nllloss = nn.CrossEntropyLoss().to(device) #CrossEntropyLoss = log_softmax + NLLLoss\n",
        "optimizer4nn = optim.Adam(model.parameters(),lr=0.0005,weight_decay=0)\n",
        "sheduler = lr_scheduler.StepLR(optimizer4nn,20,gamma=0.8)\n",
        "# optimzer4center\n",
        "for epoch in range(100):\n",
        "    sheduler.step()\n",
        "    train(epoch+1)\n",
        "print(\"Training finishes...............\")"
      ],
      "execution_count": null,
      "outputs": [
        {
          "output_type": "stream",
          "name": "stdout",
          "text": [
            "Training... Epoch = 1\n"
          ]
        },
        {
          "output_type": "stream",
          "name": "stderr",
          "text": [
            "/usr/local/lib/python3.7/dist-packages/torch/optim/lr_scheduler.py:134: UserWarning: Detected call of `lr_scheduler.step()` before `optimizer.step()`. In PyTorch 1.1.0 and later, you should call them in the opposite order: `optimizer.step()` before `lr_scheduler.step()`.  Failure to do this will result in PyTorch skipping the first value of the learning rate schedule. See more details at https://pytorch.org/docs/stable/optim.html#how-to-adjust-learning-rate\n",
            "  \"https://pytorch.org/docs/stable/optim.html#how-to-adjust-learning-rate\", UserWarning)\n"
          ]
        },
        {
          "output_type": "stream",
          "name": "stdout",
          "text": [
            "Training... Epoch = 2\n",
            "Training... Epoch = 3\n",
            "Training... Epoch = 4\n",
            "Training... Epoch = 5\n",
            "Training... Epoch = 6\n",
            "Training... Epoch = 7\n",
            "Training... Epoch = 8\n",
            "Training... Epoch = 9\n",
            "Training... Epoch = 10\n",
            "Training... Epoch = 11\n",
            "Training... Epoch = 12\n",
            "Training... Epoch = 13\n",
            "Training... Epoch = 14\n",
            "Training... Epoch = 15\n",
            "Training... Epoch = 16\n",
            "Training... Epoch = 17\n",
            "Training... Epoch = 18\n",
            "Training... Epoch = 19\n",
            "Training... Epoch = 20\n",
            "Training... Epoch = 21\n",
            "Training... Epoch = 22\n",
            "Training... Epoch = 23\n",
            "Training... Epoch = 24\n",
            "Training... Epoch = 25\n",
            "Training... Epoch = 26\n",
            "Training... Epoch = 27\n",
            "Training... Epoch = 28\n",
            "Training... Epoch = 29\n",
            "Training... Epoch = 30\n",
            "Training... Epoch = 31\n",
            "Training... Epoch = 32\n",
            "Training... Epoch = 33\n",
            "Training... Epoch = 34\n",
            "Training... Epoch = 35\n",
            "Training... Epoch = 36\n",
            "Training... Epoch = 37\n",
            "Training... Epoch = 38\n",
            "Training... Epoch = 39\n",
            "Training... Epoch = 40\n",
            "Training... Epoch = 41\n",
            "Training... Epoch = 42\n",
            "Training... Epoch = 43\n",
            "Training... Epoch = 44\n",
            "Training... Epoch = 45\n",
            "Training... Epoch = 46\n",
            "Training... Epoch = 47\n",
            "Training... Epoch = 48\n",
            "Training... Epoch = 49\n",
            "Training... Epoch = 50\n",
            "Training... Epoch = 51\n",
            "Training... Epoch = 52\n",
            "Training... Epoch = 53\n",
            "Training... Epoch = 54\n",
            "Training... Epoch = 55\n",
            "Training... Epoch = 56\n",
            "Training... Epoch = 57\n",
            "Training... Epoch = 58\n",
            "Training... Epoch = 59\n",
            "Training... Epoch = 60\n",
            "Training... Epoch = 61\n",
            "Training... Epoch = 62\n",
            "Training... Epoch = 63\n",
            "Training... Epoch = 64\n",
            "Training... Epoch = 65\n",
            "Training... Epoch = 66\n",
            "Training... Epoch = 67\n",
            "Training... Epoch = 68\n",
            "Training... Epoch = 69\n",
            "Training... Epoch = 70\n",
            "Training... Epoch = 71\n",
            "Training... Epoch = 72\n",
            "Training... Epoch = 73\n",
            "Training... Epoch = 74\n",
            "Training... Epoch = 75\n",
            "Training... Epoch = 76\n",
            "Training... Epoch = 77\n",
            "Training... Epoch = 78\n",
            "Training... Epoch = 79\n",
            "Training... Epoch = 80\n",
            "Training... Epoch = 81\n",
            "Training... Epoch = 82\n",
            "Training... Epoch = 83\n",
            "Training... Epoch = 84\n",
            "Training... Epoch = 85\n",
            "Training... Epoch = 86\n",
            "Training... Epoch = 87\n",
            "Training... Epoch = 88\n",
            "Training... Epoch = 89\n",
            "Training... Epoch = 90\n",
            "Training... Epoch = 91\n",
            "Training... Epoch = 92\n",
            "Training... Epoch = 93\n",
            "Training... Epoch = 94\n",
            "Training... Epoch = 95\n",
            "Training... Epoch = 96\n",
            "Training... Epoch = 97\n",
            "Training... Epoch = 98\n",
            "Training... Epoch = 99\n",
            "Training... Epoch = 100\n",
            "Training finishes...............\n"
          ]
        }
      ]
    },
    {
      "cell_type": "markdown",
      "source": [
        "6. Visualization function"
      ],
      "metadata": {
        "id": "rCnZYf5vwRu3"
      }
    },
    {
      "cell_type": "code",
      "source": [
        "\n",
        "def visualize(srcfeature,srclabel,tarfeature, tarlabel):\n",
        "    fea=np.vstack((srcfeature,tarfeature))\n",
        "    feature = TSNE(n_components=2, learning_rate='auto',init='random').fit_transform(fea)\n",
        "    src=feature[:len(srcfeature)]\n",
        "    tar=feature[len(srcfeature):]\n",
        "\n",
        "    plt.ion()\n",
        "    c = ['#ff0000', '#ffff00', '#00ff00', '#00ffff', '#0000ff',\n",
        "         '#ff00ff', '#990000', '#999900', '#009900', '#000000']    \n",
        "    plt.clf()\n",
        "    for i in range(10):\n",
        "        plt.scatter(src[srclabel == i, 0], src[srclabel == i, 1], marker='.', c=c[i])\n",
        "    for i in range(10):\n",
        "        plt.scatter(tar[tarlabel == i, 0], tar[tarlabel == i, 1], marker='^',c=c[i],edgecolor='black', linewidth=0.2,alpha=0.5)\n",
        "    plt.savefig('/'+\"figure.jpg\", format='jpg', dpi=1200)\n",
        "    plt.draw()\n"
      ],
      "metadata": {
        "id": "hJzKr0TOS7Xp"
      },
      "execution_count": null,
      "outputs": []
    },
    {
      "cell_type": "markdown",
      "source": [
        "7. Perform another selection of data and do the visualization"
      ],
      "metadata": {
        "id": "-TxdmVcCOABN"
      }
    },
    {
      "cell_type": "code",
      "source": [
        "# Another selection of data\n",
        "X_train_target,y_train_target,X_train_source,y_train_source,X_test,y_test=read_data('MNIST_to_USPS',3,1)\n",
        "source_x=X_train_source\n",
        "source_y=y_train_source\n",
        "target_x=X_test\n",
        "target_y=y_test\n",
        "\n",
        "source_x=torch.from_numpy(source_x).reshape(-1,1,16,16)\n",
        "target_x=torch.from_numpy(target_x).reshape(-1,1,16,16)\n",
        "\n",
        "source_x=source_x.float()\n",
        "target_x=target_x.float()\n",
        "source_feature= model(source_x.to(device))[0].data.cpu().numpy()\n",
        "target_feature= model(target_x.to(device))[0].data.cpu().numpy()\n",
        "\n",
        "# Visualization\n",
        "visualize(source_feature,source_y,target_feature,target_y)"
      ],
      "metadata": {
        "colab": {
          "base_uri": "https://localhost:8080/",
          "height": 320
        },
        "id": "b9_D1T_GTAGA",
        "outputId": "db45fa8f-402b-4999-b342-bff318dbde29"
      },
      "execution_count": null,
      "outputs": [
        {
          "output_type": "stream",
          "name": "stdout",
          "text": [
            "Target X :  (10, 16, 16)  Y :  (10,)\n",
            "Source X :  (2000, 16, 16)  Y :  (2000,)\n",
            "Test X :  (1800, 16, 16)  Test_Y :  (1800,)\n"
          ]
        },
        {
          "output_type": "display_data",
          "data": {
            "image/png": "[encoded data removed]",
            "text/plain": [
              "<Figure size 432x288 with 1 Axes>"
            ]
          },
          "metadata": {
            "needs_background": "light"
          }
        }
      ]
    }
  ]
}